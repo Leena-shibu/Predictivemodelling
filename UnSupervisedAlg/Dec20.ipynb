{
 "cells": [
  {
   "cell_type": "markdown",
   "id": "e1c1a871",
   "metadata": {},
   "source": [
    "#K means --Unsupervised Algo\n",
    "#1.Assume no of clusters K \n",
    "#2. Assume K centroid\n",
    "#3. Compute distance between centroid and observations,Equildean distance \n",
    "#4. Assign observation to the centroid group based min distance \n",
    "#5.Update centroid,taking mean of all the observations\n",
    "#6. Stop the process till subsequent centroids are equal / till algorithm converges \n"
   ]
  },
  {
   "cell_type": "code",
   "execution_count": 8,
   "id": "c6c51ee0",
   "metadata": {},
   "outputs": [],
   "source": [
    "from sklearn.cluster import KMeans\n",
    "import pandas as pd\n",
    "import numpy as np\n",
    "import  matplotlib.pyplot as plt\n",
    "import seaborn as sns \n",
    "from sklearn.preprocessing import StandardScaler\n"
   ]
  },
  {
   "cell_type": "code",
   "execution_count": 5,
   "id": "43bc26ee",
   "metadata": {},
   "outputs": [],
   "source": [
    "df=pd.read_csv(\"income.csv\")"
   ]
  },
  {
   "cell_type": "code",
   "execution_count": 6,
   "id": "5353b51b",
   "metadata": {},
   "outputs": [
    {
     "data": {
      "text/html": [
       "<div>\n",
       "<style scoped>\n",
       "    .dataframe tbody tr th:only-of-type {\n",
       "        vertical-align: middle;\n",
       "    }\n",
       "\n",
       "    .dataframe tbody tr th {\n",
       "        vertical-align: top;\n",
       "    }\n",
       "\n",
       "    .dataframe thead th {\n",
       "        text-align: right;\n",
       "    }\n",
       "</style>\n",
       "<table border=\"1\" class=\"dataframe\">\n",
       "  <thead>\n",
       "    <tr style=\"text-align: right;\">\n",
       "      <th></th>\n",
       "      <th>Name</th>\n",
       "      <th>Age</th>\n",
       "      <th>Income</th>\n",
       "    </tr>\n",
       "  </thead>\n",
       "  <tbody>\n",
       "    <tr>\n",
       "      <th>0</th>\n",
       "      <td>Rob</td>\n",
       "      <td>27</td>\n",
       "      <td>70000</td>\n",
       "    </tr>\n",
       "    <tr>\n",
       "      <th>1</th>\n",
       "      <td>Michael</td>\n",
       "      <td>29</td>\n",
       "      <td>90000</td>\n",
       "    </tr>\n",
       "    <tr>\n",
       "      <th>2</th>\n",
       "      <td>Mohan</td>\n",
       "      <td>29</td>\n",
       "      <td>61000</td>\n",
       "    </tr>\n",
       "    <tr>\n",
       "      <th>3</th>\n",
       "      <td>Ismail</td>\n",
       "      <td>28</td>\n",
       "      <td>60000</td>\n",
       "    </tr>\n",
       "    <tr>\n",
       "      <th>4</th>\n",
       "      <td>Kory</td>\n",
       "      <td>42</td>\n",
       "      <td>150000</td>\n",
       "    </tr>\n",
       "    <tr>\n",
       "      <th>5</th>\n",
       "      <td>Gautam</td>\n",
       "      <td>39</td>\n",
       "      <td>155000</td>\n",
       "    </tr>\n",
       "    <tr>\n",
       "      <th>6</th>\n",
       "      <td>David</td>\n",
       "      <td>41</td>\n",
       "      <td>160000</td>\n",
       "    </tr>\n",
       "    <tr>\n",
       "      <th>7</th>\n",
       "      <td>Andrea</td>\n",
       "      <td>38</td>\n",
       "      <td>162000</td>\n",
       "    </tr>\n",
       "    <tr>\n",
       "      <th>8</th>\n",
       "      <td>Brad</td>\n",
       "      <td>36</td>\n",
       "      <td>156000</td>\n",
       "    </tr>\n",
       "    <tr>\n",
       "      <th>9</th>\n",
       "      <td>Angelina</td>\n",
       "      <td>35</td>\n",
       "      <td>130000</td>\n",
       "    </tr>\n",
       "    <tr>\n",
       "      <th>10</th>\n",
       "      <td>Donald</td>\n",
       "      <td>37</td>\n",
       "      <td>137000</td>\n",
       "    </tr>\n",
       "    <tr>\n",
       "      <th>11</th>\n",
       "      <td>Tom</td>\n",
       "      <td>26</td>\n",
       "      <td>45000</td>\n",
       "    </tr>\n",
       "    <tr>\n",
       "      <th>12</th>\n",
       "      <td>Arnold</td>\n",
       "      <td>27</td>\n",
       "      <td>48000</td>\n",
       "    </tr>\n",
       "    <tr>\n",
       "      <th>13</th>\n",
       "      <td>Jared</td>\n",
       "      <td>28</td>\n",
       "      <td>51000</td>\n",
       "    </tr>\n",
       "    <tr>\n",
       "      <th>14</th>\n",
       "      <td>Stark</td>\n",
       "      <td>29</td>\n",
       "      <td>49500</td>\n",
       "    </tr>\n",
       "    <tr>\n",
       "      <th>15</th>\n",
       "      <td>Ranbir</td>\n",
       "      <td>32</td>\n",
       "      <td>53000</td>\n",
       "    </tr>\n",
       "    <tr>\n",
       "      <th>16</th>\n",
       "      <td>Dipika</td>\n",
       "      <td>40</td>\n",
       "      <td>65000</td>\n",
       "    </tr>\n",
       "    <tr>\n",
       "      <th>17</th>\n",
       "      <td>Priyanka</td>\n",
       "      <td>41</td>\n",
       "      <td>63000</td>\n",
       "    </tr>\n",
       "    <tr>\n",
       "      <th>18</th>\n",
       "      <td>Nick</td>\n",
       "      <td>43</td>\n",
       "      <td>64000</td>\n",
       "    </tr>\n",
       "    <tr>\n",
       "      <th>19</th>\n",
       "      <td>Alia</td>\n",
       "      <td>39</td>\n",
       "      <td>80000</td>\n",
       "    </tr>\n",
       "    <tr>\n",
       "      <th>20</th>\n",
       "      <td>Sid</td>\n",
       "      <td>41</td>\n",
       "      <td>82000</td>\n",
       "    </tr>\n",
       "    <tr>\n",
       "      <th>21</th>\n",
       "      <td>Abdul</td>\n",
       "      <td>39</td>\n",
       "      <td>58000</td>\n",
       "    </tr>\n",
       "  </tbody>\n",
       "</table>\n",
       "</div>"
      ],
      "text/plain": [
       "        Name  Age  Income\n",
       "0        Rob   27   70000\n",
       "1    Michael   29   90000\n",
       "2      Mohan   29   61000\n",
       "3     Ismail   28   60000\n",
       "4       Kory   42  150000\n",
       "5     Gautam   39  155000\n",
       "6      David   41  160000\n",
       "7     Andrea   38  162000\n",
       "8       Brad   36  156000\n",
       "9   Angelina   35  130000\n",
       "10    Donald   37  137000\n",
       "11       Tom   26   45000\n",
       "12    Arnold   27   48000\n",
       "13     Jared   28   51000\n",
       "14     Stark   29   49500\n",
       "15    Ranbir   32   53000\n",
       "16    Dipika   40   65000\n",
       "17  Priyanka   41   63000\n",
       "18      Nick   43   64000\n",
       "19      Alia   39   80000\n",
       "20       Sid   41   82000\n",
       "21     Abdul   39   58000"
      ]
     },
     "execution_count": 6,
     "metadata": {},
     "output_type": "execute_result"
    }
   ],
   "source": [
    "df\n"
   ]
  },
  {
   "cell_type": "code",
   "execution_count": 7,
   "id": "dbd980a9",
   "metadata": {},
   "outputs": [
    {
     "data": {
      "text/plain": [
       "Text(0, 0.5, 'Income')"
      ]
     },
     "execution_count": 7,
     "metadata": {},
     "output_type": "execute_result"
    },
    {
     "data": {
      "image/png": "[encoded data removed]",
      "text/plain": [
       "<Figure size 432x288 with 1 Axes>"
      ]
     },
     "metadata": {
      "needs_background": "light"
     },
     "output_type": "display_data"
    }
   ],
   "source": [
    "plt.scatter(df.Age,df['Income'])\n",
    "plt.xlabel('Age')\n",
    "plt.ylabel('Income')"
   ]
  },
  {
   "cell_type": "code",
   "execution_count": 9,
   "id": "ddda211b",
   "metadata": {},
   "outputs": [],
   "source": [
    "df_new=df[['Age','Income']]"
   ]
  },
  {
   "cell_type": "code",
   "execution_count": 12,
   "id": "5d9e634b",
   "metadata": {},
   "outputs": [],
   "source": [
    "scaler1=StandardScaler()\n",
    "df_scaled=scaler1.fit_transform(df_new)"
   ]
  },
  {
   "cell_type": "code",
   "execution_count": 13,
   "id": "ca7f3b92",
   "metadata": {},
   "outputs": [
    {
     "data": {
      "text/plain": [
       "array([[-1.35605536, -0.48068427],\n",
       "       [-1.00915747, -0.01015907],\n",
       "       [-1.00915747, -0.69242061],\n",
       "       [-1.18260641, -0.71594687],\n",
       "       [ 1.24567876,  1.40141653],\n",
       "       [ 0.72533193,  1.51904783],\n",
       "       [ 1.07222982,  1.63667914],\n",
       "       [ 0.55188299,  1.68373166],\n",
       "       [ 0.20498511,  1.54257409],\n",
       "       [ 0.03153617,  0.93089133],\n",
       "       [ 0.37843405,  1.09557515],\n",
       "       [-1.5295043 , -1.06884077],\n",
       "       [-1.35605536, -0.99826199],\n",
       "       [-1.18260641, -0.92768321],\n",
       "       [-1.00915747, -0.9629726 ],\n",
       "       [-0.48881065, -0.88063069],\n",
       "       [ 0.89878087, -0.59831557],\n",
       "       [ 1.07222982, -0.64536809],\n",
       "       [ 1.4191277 , -0.62184183],\n",
       "       [ 0.72533193, -0.24542167],\n",
       "       [ 1.07222982, -0.19836915],\n",
       "       [ 0.72533193, -0.76299939]])"
      ]
     },
     "execution_count": 13,
     "metadata": {},
     "output_type": "execute_result"
    }
   ],
   "source": [
    "df_scaled"
   ]
  },
  {
   "cell_type": "code",
   "execution_count": 15,
   "id": "65818808",
   "metadata": {},
   "outputs": [
    {
     "data": {
      "text/plain": [
       "array([1, 1, 1, 1, 0, 0, 0, 0, 0, 0, 0, 1, 1, 1, 1, 1, 2, 2, 2, 2, 2, 2])"
      ]
     },
     "execution_count": 15,
     "metadata": {},
     "output_type": "execute_result"
    }
   ],
   "source": [
    "km=KMeans(n_clusters=3)\n",
    "y_pred=km.fit_predict(df_scaled)\n",
    "y_pred"
   ]
  },
  {
   "cell_type": "code",
   "execution_count": 16,
   "id": "a168c715",
   "metadata": {},
   "outputs": [],
   "source": [
    "df['cluster']=y_pred"
   ]
  },
  {
   "cell_type": "code",
   "execution_count": 17,
   "id": "984ebd26",
   "metadata": {},
   "outputs": [
    {
     "data": {
      "text/html": [
       "<div>\n",
       "<style scoped>\n",
       "    .dataframe tbody tr th:only-of-type {\n",
       "        vertical-align: middle;\n",
       "    }\n",
       "\n",
       "    .dataframe tbody tr th {\n",
       "        vertical-align: top;\n",
       "    }\n",
       "\n",
       "    .dataframe thead th {\n",
       "        text-align: right;\n",
       "    }\n",
       "</style>\n",
       "<table border=\"1\" class=\"dataframe\">\n",
       "  <thead>\n",
       "    <tr style=\"text-align: right;\">\n",
       "      <th></th>\n",
       "      <th>Name</th>\n",
       "      <th>Age</th>\n",
       "      <th>Income</th>\n",
       "      <th>cluster</th>\n",
       "    </tr>\n",
       "  </thead>\n",
       "  <tbody>\n",
       "    <tr>\n",
       "      <th>0</th>\n",
       "      <td>Rob</td>\n",
       "      <td>27</td>\n",
       "      <td>70000</td>\n",
       "      <td>1</td>\n",
       "    </tr>\n",
       "    <tr>\n",
       "      <th>1</th>\n",
       "      <td>Michael</td>\n",
       "      <td>29</td>\n",
       "      <td>90000</td>\n",
       "      <td>1</td>\n",
       "    </tr>\n",
       "    <tr>\n",
       "      <th>2</th>\n",
       "      <td>Mohan</td>\n",
       "      <td>29</td>\n",
       "      <td>61000</td>\n",
       "      <td>1</td>\n",
       "    </tr>\n",
       "    <tr>\n",
       "      <th>3</th>\n",
       "      <td>Ismail</td>\n",
       "      <td>28</td>\n",
       "      <td>60000</td>\n",
       "      <td>1</td>\n",
       "    </tr>\n",
       "    <tr>\n",
       "      <th>4</th>\n",
       "      <td>Kory</td>\n",
       "      <td>42</td>\n",
       "      <td>150000</td>\n",
       "      <td>0</td>\n",
       "    </tr>\n",
       "  </tbody>\n",
       "</table>\n",
       "</div>"
      ],
      "text/plain": [
       "      Name  Age  Income  cluster\n",
       "0      Rob   27   70000        1\n",
       "1  Michael   29   90000        1\n",
       "2    Mohan   29   61000        1\n",
       "3   Ismail   28   60000        1\n",
       "4     Kory   42  150000        0"
      ]
     },
     "execution_count": 17,
     "metadata": {},
     "output_type": "execute_result"
    }
   ],
   "source": [
    "df.head()"
   ]
  },
  {
   "cell_type": "code",
   "execution_count": 18,
   "id": "2ad12531",
   "metadata": {},
   "outputs": [],
   "source": [
    "df1=df[df.cluster==0]\n",
    "df2=df[df.cluster==1]\n",
    "df3=df[df.cluster==2]"
   ]
  },
  {
   "cell_type": "code",
   "execution_count": 19,
   "id": "206cd8a5",
   "metadata": {},
   "outputs": [
    {
     "name": "stderr",
     "output_type": "stream",
     "text": [
      "No handles with labels found to put in legend.\n"
     ]
    },
    {
     "data": {
      "text/plain": [
       "<matplotlib.legend.Legend at 0x2727f8bf1f0>"
      ]
     },
     "execution_count": 19,
     "metadata": {},
     "output_type": "execute_result"
    },
    {
     "data": {
      "image/png": "[encoded data removed]",
      "text/plain": [
       "<Figure size 432x288 with 1 Axes>"
      ]
     },
     "metadata": {
      "needs_background": "light"
     },
     "output_type": "display_data"
    }
   ],
   "source": [
    "plt.scatter(df1.Age,df1.Income,color='green')\n",
    "plt.scatter(df2.Age,df2.Income,color='red')\n",
    "plt.scatter(df3.Age,df3.Income,color='black')\n",
    "plt.legend()"
   ]
  },
  {
   "cell_type": "code",
   "execution_count": null,
   "id": "cbc0514c",
   "metadata": {},
   "outputs": [],
   "source": [
    "#Techniques to Measure quality of clusters\n",
    "#1. Inertia\n",
    "#2.Silhoutte Score\n",
    "#Good model Inertia -- Low and Low no of clusters "
   ]
  },
  {
   "cell_type": "markdown",
   "id": "93de5cfe",
   "metadata": {},
   "source": [
    "## Inertia --distance each datapoint and centroid(square and sum it )\n",
    "## Elbow point /Plot"
   ]
  },
  {
   "cell_type": "markdown",
   "id": "b5fa085d",
   "metadata": {},
   "source": [
    "### Elbow Plot helps decide value of K "
   ]
  },
  {
   "cell_type": "code",
   "execution_count": 20,
   "id": "a9cb847b",
   "metadata": {},
   "outputs": [
    {
     "name": "stderr",
     "output_type": "stream",
     "text": [
      "C:\\Users\\Leena Shibu\\anaconda3\\lib\\site-packages\\sklearn\\cluster\\_kmeans.py:881: UserWarning: KMeans is known to have a memory leak on Windows with MKL, when there are less chunks than available threads. You can avoid it by setting the environment variable OMP_NUM_THREADS=1.\n",
      "  warnings.warn(\n"
     ]
    }
   ],
   "source": [
    "sse=[]\n",
    "k_rng=range(1,10) \n",
    "for k in k_rng:\n",
    "    km=KMeans(n_clusters=k)\n",
    "    km.fit(df_scaled)\n",
    "    sse.append(km.inertia_)"
   ]
  },
  {
   "cell_type": "code",
   "execution_count": 22,
   "id": "09eb7344",
   "metadata": {},
   "outputs": [
    {
     "data": {
      "text/plain": [
       "[<matplotlib.lines.Line2D at 0x27218345e50>]"
      ]
     },
     "execution_count": 22,
     "metadata": {},
     "output_type": "execute_result"
    },
    {
     "data": {
      "image/png": "[encoded data removed]",
      "text/plain": [
       "<Figure size 432x288 with 1 Axes>"
      ]
     },
     "metadata": {
      "needs_background": "light"
     },
     "output_type": "display_data"
    }
   ],
   "source": [
    "plt.xlabel('No of Clusters')\n",
    "plt.ylabel('Wcss') #Wcss--Within cluster sum of square\n",
    "plt.plot(k_rng,sse)"
   ]
  },
  {
   "cell_type": "markdown",
   "id": "0857797f",
   "metadata": {},
   "source": [
    "## Silhoutte score \n",
    "## pip install yellowbrick "
   ]
  },
  {
   "cell_type": "code",
   "execution_count": 25,
   "id": "f7e6b60a",
   "metadata": {},
   "outputs": [
    {
     "data": {
      "image/png": "[encoded data removed]",
      "text/plain": [
       "<Figure size 576x396 with 1 Axes>"
      ]
     },
     "metadata": {},
     "output_type": "display_data"
    },
    {
     "data": {
      "text/plain": [
       "<AxesSubplot:title={'center':'Silhouette Plot of KMeans Clustering for 22 Samples in 2 Centers'}, xlabel='silhouette coefficient values', ylabel='cluster label'>"
      ]
     },
     "execution_count": 25,
     "metadata": {},
     "output_type": "execute_result"
    }
   ],
   "source": [
    "from yellowbrick.cluster import SilhouetteVisualizer\n",
    "\n",
    "clust_mod=KMeans(n_clusters=2,random_state=0)\n",
    "viz=SilhouetteVisualizer(clust_mod,color='yellowbrick')\n",
    "viz.fit(df_scaled)\n",
    "viz.show()"
   ]
  },
  {
   "cell_type": "code",
   "execution_count": 26,
   "id": "477e48ee",
   "metadata": {},
   "outputs": [
    {
     "data": {
      "image/png": "[encoded data removed]",
      "text/plain": [
       "<Figure size 576x396 with 1 Axes>"
      ]
     },
     "metadata": {},
     "output_type": "display_data"
    },
    {
     "data": {
      "text/plain": [
       "<AxesSubplot:title={'center':'Silhouette Plot of KMeans Clustering for 22 Samples in 3 Centers'}, xlabel='silhouette coefficient values', ylabel='cluster label'>"
      ]
     },
     "execution_count": 26,
     "metadata": {},
     "output_type": "execute_result"
    }
   ],
   "source": [
    "from yellowbrick.cluster import SilhouetteVisualizer\n",
    "\n",
    "clust_mod=KMeans(n_clusters=3,random_state=0)\n",
    "viz=SilhouetteVisualizer(clust_mod,color='yellowbrick')\n",
    "viz.fit(df_scaled)\n",
    "viz.show()"
   ]
  },
  {
   "cell_type": "code",
   "execution_count": 27,
   "id": "5ec52b8f",
   "metadata": {},
   "outputs": [
    {
     "data": {
      "image/png": "[encoded data removed]",
      "text/plain": [
       "<Figure size 576x396 with 1 Axes>"
      ]
     },
     "metadata": {},
     "output_type": "display_data"
    },
    {
     "data": {
      "text/plain": [
       "<AxesSubplot:title={'center':'Silhouette Plot of KMeans Clustering for 22 Samples in 4 Centers'}, xlabel='silhouette coefficient values', ylabel='cluster label'>"
      ]
     },
     "execution_count": 27,
     "metadata": {},
     "output_type": "execute_result"
    }
   ],
   "source": [
    "from yellowbrick.cluster import SilhouetteVisualizer\n",
    "\n",
    "clust_mod=KMeans(n_clusters=4,random_state=0)\n",
    "viz=SilhouetteVisualizer(clust_mod,color='yellowbrick')\n",
    "viz.fit(df_scaled)\n",
    "viz.show()"
   ]
  },
  {
   "cell_type": "code",
   "execution_count": 33,
   "id": "5c8e97f1",
   "metadata": {},
   "outputs": [
    {
     "name": "stdout",
     "output_type": "stream",
     "text": [
      "2 0.5723194612553445\n",
      "3 0.7119890290065082\n",
      "4 0.6289796936723044\n",
      "5 0.4747457655987608\n",
      "6 0.46210543839933194\n",
      "7 0.4327737772148998\n"
     ]
    }
   ],
   "source": [
    "from sklearn.metrics import silhouette_score\n",
    "c1=[2,3,4,5,6,7]\n",
    "for k in c1:\n",
    "    clust_mod=KMeans(n_clusters=k,random_state=0)\n",
    "    clust_mod.fit(df_scaled)\n",
    "    print(k,silhouette_score(df_scaled,clust_mod.labels_))"
   ]
  },
  {
   "cell_type": "code",
   "execution_count": null,
   "id": "881fc8b7",
   "metadata": {},
   "outputs": [],
   "source": [
    "Paypal  ---customers payment --Banks--Average spenders,careful,aggressive spenders \n",
    "\n",
    "retails--Loyalty customers\n",
    "Netflix--\n",
    "Kmeans --widely used Segmentation\n",
    "AirBNB--Kmeans combination--segmentation\n",
    "  mobile party \n",
    "Adv Kmeans\n",
    "\n",
    "1.Easy understand \n",
    "2.Number data \n",
    "3. good results cluster spherical \n",
    "\n",
    "Disadv--1. iterative algorithm\n",
    "\n",
    "        2.computationally intensive \n",
    "        3. K value --observe cluster formation --inertia(Elbow Plot,Silhouette score)\n",
    "        \n",
    "        2.Hierarchical Clustering \n",
    "\n"
   ]
  },
  {
   "cell_type": "code",
   "execution_count": null,
   "id": "412fa8b9",
   "metadata": {},
   "outputs": [],
   "source": []
  }
 ],
 "metadata": {
  "kernelspec": {
   "display_name": "Python 3 (ipykernel)",
   "language": "python",
   "name": "python3"
  },
  "language_info": {
   "codemirror_mode": {
    "name": "ipython",
    "version": 3
   },
   "file_extension": ".py",
   "mimetype": "text/x-python",
   "name": "python",
   "nbconvert_exporter": "python",
   "pygments_lexer": "ipython3",
   "version": "3.9.7"
  }
 },
 "nbformat": 4,
 "nbformat_minor": 5
}
