{
 "cells": [
  {
   "cell_type": "code",
   "execution_count": 10,
   "id": "9653dcbc",
   "metadata": {},
   "outputs": [],
   "source": [
    "import numpy as np\n",
    "import pandas as pd\n",
    "import matplotlib.pyplot as plt"
   ]
  },
  {
   "cell_type": "code",
   "execution_count": 11,
   "id": "8160ce7a",
   "metadata": {},
   "outputs": [],
   "source": [
    "X=np.array([[5,3],\n",
    "          [10,15],\n",
    "          [24,10],\n",
    "          [30,30],\n",
    "          [85,70],\n",
    "          [71,80],\n",
    "          [60,78],\n",
    "          [70,55],\n",
    "          [80,91],\n",
    "            [41,50],])"
   ]
  },
  {
   "cell_type": "code",
   "execution_count": 13,
   "id": "7138392e",
   "metadata": {},
   "outputs": [
    {
     "data": {
      "text/plain": [
       "<matplotlib.collections.PathCollection at 0x27725cda460>"
      ]
     },
     "execution_count": 13,
     "metadata": {},
     "output_type": "execute_result"
    },
    {
     "data": {
      "image/png": "[encoded data removed]",
      "text/plain": [
       "<Figure size 432x288 with 1 Axes>"
      ]
     },
     "metadata": {
      "needs_background": "light"
     },
     "output_type": "display_data"
    }
   ],
   "source": [
    "plt.scatter(X[:,0],X[:,1])"
   ]
  },
  {
   "cell_type": "code",
   "execution_count": 14,
   "id": "8c6a47a0",
   "metadata": {},
   "outputs": [
    {
     "data": {
      "image/png": "[encoded data removed]",
      "text/plain": [
       "<Figure size 432x288 with 1 Axes>"
      ]
     },
     "metadata": {
      "needs_background": "light"
     },
     "output_type": "display_data"
    }
   ],
   "source": [
    "from scipy.cluster.hierarchy import dendrogram,linkage\n",
    "linked=linkage(X,'ward')#cost of joining two points (min cost)\n",
    "dendrogram(linked)\n",
    "plt.show()\n",
    "#visually see hierarchy of clusters "
   ]
  },
  {
   "cell_type": "code",
   "execution_count": 17,
   "id": "662164ef",
   "metadata": {},
   "outputs": [
    {
     "data": {
      "text/plain": [
       "array([0, 0, 0, 0, 1, 1, 1, 1, 1, 0], dtype=int64)"
      ]
     },
     "execution_count": 17,
     "metadata": {},
     "output_type": "execute_result"
    }
   ],
   "source": [
    "from sklearn.cluster import AgglomerativeClustering\n",
    "cluster=AgglomerativeClustering(n_clusters=2,affinity='euclidean',linkage='ward')\n",
    "cluster.fit_predict(X)\n",
    "Linkage ---types \n",
    "min distance --single\n",
    "max distance --complete \n"
   ]
  },
  {
   "cell_type": "code",
   "execution_count": 18,
   "id": "c529456c",
   "metadata": {},
   "outputs": [
    {
     "name": "stdout",
     "output_type": "stream",
     "text": [
      "[0 0 0 0 1 1 1 1 1 0]\n"
     ]
    }
   ],
   "source": [
    "print(cluster.labels_)"
   ]
  },
  {
   "cell_type": "code",
   "execution_count": 19,
   "id": "355fab48",
   "metadata": {},
   "outputs": [
    {
     "data": {
      "text/plain": [
       "<matplotlib.collections.PathCollection at 0x277274074f0>"
      ]
     },
     "execution_count": 19,
     "metadata": {},
     "output_type": "execute_result"
    },
    {
     "data": {
      "image/png": "[encoded data removed]",
      "text/plain": [
       "<Figure size 432x288 with 1 Axes>"
      ]
     },
     "metadata": {
      "needs_background": "light"
     },
     "output_type": "display_data"
    }
   ],
   "source": [
    "plt.scatter(X[:,0],X[:,1],c=cluster.labels_,cmap='rainbow')"
   ]
  },
  {
   "cell_type": "code",
   "execution_count": 22,
   "id": "2358a46e",
   "metadata": {},
   "outputs": [
    {
     "data": {
      "text/plain": [
       "(0.8103405026734437,\n",
       " array([ 13.        ,  19.08751774,  58.92424515, 165.1011811 ,\n",
       "        165.1011811 , 165.1011811 , 165.1011811 , 165.1011811 ,\n",
       "         58.92424515,  19.08751774,  58.92424515, 165.1011811 ,\n",
       "        165.1011811 , 165.1011811 , 165.1011811 , 165.1011811 ,\n",
       "         58.92424515,  58.92424515, 165.1011811 , 165.1011811 ,\n",
       "        165.1011811 , 165.1011811 , 165.1011811 ,  58.92424515,\n",
       "        165.1011811 , 165.1011811 , 165.1011811 , 165.1011811 ,\n",
       "        165.1011811 ,  22.82542442,  33.64322616,  33.64322616,\n",
       "         21.21320344,  33.64322616, 165.1011811 ,  11.18033989,\n",
       "         33.64322616,  21.73323108, 165.1011811 ,  33.64322616,\n",
       "         21.73323108, 165.1011811 ,  33.64322616, 165.1011811 ,\n",
       "        165.1011811 ]))"
      ]
     },
     "execution_count": 22,
     "metadata": {},
     "output_type": "execute_result"
    }
   ],
   "source": [
    "from scipy.cluster.hierarchy import cophenet\n",
    "from scipy.spatial.distance import pdist\n",
    "Z=linkage(X,'ward')\n",
    "c=cophenet(Z,pdist(X))#similarity distance closer to 1 better clustering \n",
    "c"
   ]
  },
  {
   "cell_type": "code",
   "execution_count": 23,
   "id": "80f94eeb",
   "metadata": {},
   "outputs": [
    {
     "data": {
      "text/plain": [
       "array([ 5.        ,  6.        , 11.18033989,  2.        ])"
      ]
     },
     "execution_count": 23,
     "metadata": {},
     "output_type": "execute_result"
    }
   ],
   "source": [
    "Z[0]"
   ]
  },
  {
   "cell_type": "code",
   "execution_count": null,
   "id": "3c5a9735",
   "metadata": {},
   "outputs": [],
   "source": [
    "K Means \n",
    "\n",
    "#1. Decide value K \n",
    "#2. Random centroid \n",
    "3. Compute distance between centorid and points \n",
    "4. Update centroid by taking mean\n",
    "5. Continue step 3 \n"
   ]
  },
  {
   "cell_type": "code",
   "execution_count": 25,
   "id": "069f0b1b",
   "metadata": {},
   "outputs": [
    {
     "data": {
      "text/plain": [
       "array([1, 1, 1, 1, 0, 0, 0, 0, 0, 0])"
      ]
     },
     "execution_count": 25,
     "metadata": {},
     "output_type": "execute_result"
    }
   ],
   "source": [
    "from sklearn.cluster import KMeans\n",
    "km=KMeans(n_clusters=2)\n",
    "y_pred=km.fit_predict(X)\n",
    "y_pred"
   ]
  },
  {
   "cell_type": "code",
   "execution_count": 26,
   "id": "a1f67390",
   "metadata": {},
   "outputs": [
    {
     "data": {
      "text/plain": [
       "array([[67.83333333, 70.66666667],\n",
       "       [17.25      , 14.5       ]])"
      ]
     },
     "execution_count": 26,
     "metadata": {},
     "output_type": "execute_result"
    }
   ],
   "source": [
    "km.cluster_centers_"
   ]
  },
  {
   "cell_type": "code",
   "execution_count": 28,
   "id": "f7b5bbe6",
   "metadata": {},
   "outputs": [
    {
     "data": {
      "image/png": "[encoded data removed]",
      "text/plain": [
       "<Figure size 576x396 with 1 Axes>"
      ]
     },
     "metadata": {},
     "output_type": "display_data"
    },
    {
     "data": {
      "text/plain": [
       "<AxesSubplot:title={'center':'Silhouette Plot of KMeans Clustering for 10 Samples in 2 Centers'}, xlabel='silhouette coefficient values', ylabel='cluster label'>"
      ]
     },
     "execution_count": 28,
     "metadata": {},
     "output_type": "execute_result"
    }
   ],
   "source": [
    "from yellowbrick.cluster import SilhouetteVisualizer\n",
    "clust_mod=KMeans(n_clusters=2)\n",
    "viz=SilhouetteVisualizer(clust_mod,colors='yellowbrick')\n",
    "viz.fit(X)\n",
    "viz.show()"
   ]
  },
  {
   "cell_type": "code",
   "execution_count": 29,
   "id": "d3c3beba",
   "metadata": {},
   "outputs": [
    {
     "data": {
      "image/png": "[encoded data removed]",
      "text/plain": [
       "<Figure size 576x396 with 1 Axes>"
      ]
     },
     "metadata": {},
     "output_type": "display_data"
    },
    {
     "data": {
      "text/plain": [
       "<AxesSubplot:title={'center':'Silhouette Plot of KMeans Clustering for 10 Samples in 3 Centers'}, xlabel='silhouette coefficient values', ylabel='cluster label'>"
      ]
     },
     "execution_count": 29,
     "metadata": {},
     "output_type": "execute_result"
    }
   ],
   "source": [
    "from yellowbrick.cluster import SilhouetteVisualizer\n",
    "clust_mod=KMeans(n_clusters=3)\n",
    "viz=SilhouetteVisualizer(clust_mod,colors='yellowbrick')\n",
    "viz.fit(X)\n",
    "viz.show()"
   ]
  },
  {
   "cell_type": "code",
   "execution_count": null,
   "id": "42e31183",
   "metadata": {},
   "outputs": [],
   "source": []
  }
 ],
 "metadata": {
  "kernelspec": {
   "display_name": "Python 3 (ipykernel)",
   "language": "python",
   "name": "python3"
  },
  "language_info": {
   "codemirror_mode": {
    "name": "ipython",
    "version": 3
   },
   "file_extension": ".py",
   "mimetype": "text/x-python",
   "name": "python",
   "nbconvert_exporter": "python",
   "pygments_lexer": "ipython3",
   "version": "3.9.7"
  }
 },
 "nbformat": 4,
 "nbformat_minor": 5
}
