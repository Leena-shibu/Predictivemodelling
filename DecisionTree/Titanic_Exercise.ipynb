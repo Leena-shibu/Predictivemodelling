{
 "cells": [
  {
   "cell_type": "markdown",
   "id": "5be303c4",
   "metadata": {},
   "source": [
    "#### Read Titanic.csv"
   ]
  },
  {
   "cell_type": "code",
   "execution_count": null,
   "id": "945319ca",
   "metadata": {},
   "outputs": [],
   "source": []
  },
  {
   "cell_type": "markdown",
   "id": "86fe0263",
   "metadata": {},
   "source": [
    "#### Examine number of rows and columns and descriptive statistics"
   ]
  },
  {
   "cell_type": "code",
   "execution_count": null,
   "id": "c5fc9c32",
   "metadata": {},
   "outputs": [],
   "source": []
  },
  {
   "cell_type": "code",
   "execution_count": null,
   "id": "5e6bc095",
   "metadata": {},
   "outputs": [],
   "source": []
  },
  {
   "cell_type": "markdown",
   "id": "101c3f33",
   "metadata": {},
   "source": [
    "#### Drop the following columns'PassengerId','Name','SibSp','Parch','Ticket','Cabin','Embarked'"
   ]
  },
  {
   "cell_type": "code",
   "execution_count": null,
   "id": "b782f24e",
   "metadata": {},
   "outputs": [],
   "source": []
  },
  {
   "cell_type": "code",
   "execution_count": null,
   "id": "6d79ec99",
   "metadata": {},
   "outputs": [],
   "source": []
  },
  {
   "cell_type": "markdown",
   "id": "18e5f2d4",
   "metadata": {},
   "source": [
    "#### Replace male:1 and female:2"
   ]
  },
  {
   "cell_type": "code",
   "execution_count": null,
   "id": "a78679e6",
   "metadata": {},
   "outputs": [],
   "source": []
  },
  {
   "cell_type": "markdown",
   "id": "4ee5621b",
   "metadata": {},
   "source": [
    "#### Age has missing values :impute with mean value"
   ]
  },
  {
   "cell_type": "code",
   "execution_count": null,
   "id": "6427d466",
   "metadata": {},
   "outputs": [],
   "source": []
  },
  {
   "cell_type": "code",
   "execution_count": null,
   "id": "e534341b",
   "metadata": {},
   "outputs": [],
   "source": []
  },
  {
   "cell_type": "markdown",
   "id": "f622eb6a",
   "metadata": {},
   "source": [
    "#### Train and test with 0.2%"
   ]
  },
  {
   "cell_type": "code",
   "execution_count": null,
   "id": "786f58f0",
   "metadata": {},
   "outputs": [],
   "source": []
  },
  {
   "cell_type": "markdown",
   "id": "b3f836f9",
   "metadata": {},
   "source": [
    "#### Apply Decision Tree Classifier "
   ]
  },
  {
   "cell_type": "code",
   "execution_count": null,
   "id": "de98a1d3",
   "metadata": {},
   "outputs": [],
   "source": []
  },
  {
   "cell_type": "code",
   "execution_count": null,
   "id": "3e1d6f78",
   "metadata": {},
   "outputs": [],
   "source": []
  },
  {
   "cell_type": "code",
   "execution_count": null,
   "id": "c2655987",
   "metadata": {},
   "outputs": [],
   "source": []
  }
 ],
 "metadata": {
  "kernelspec": {
   "display_name": "Python 3 (ipykernel)",
   "language": "python",
   "name": "python3"
  },
  "language_info": {
   "codemirror_mode": {
    "name": "ipython",
    "version": 3
   },
   "file_extension": ".py",
   "mimetype": "text/x-python",
   "name": "python",
   "nbconvert_exporter": "python",
   "pygments_lexer": "ipython3",
   "version": "3.9.7"
  }
 },
 "nbformat": 4,
 "nbformat_minor": 5
}
